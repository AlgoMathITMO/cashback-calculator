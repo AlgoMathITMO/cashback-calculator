{
 "cells": [
  {
   "cell_type": "code",
   "execution_count": 1,
   "metadata": {},
   "outputs": [],
   "source": [
    "import sys\n",
    "sys.path.append('..')"
   ]
  },
  {
   "cell_type": "code",
   "execution_count": 2,
   "metadata": {},
   "outputs": [],
   "source": [
    "from datetime import datetime\n",
    "from pathlib import Path\n",
    "from itertools import product, combinations\n",
    "from operator import itemgetter\n",
    "\n",
    "import numpy as np\n",
    "import pandas as pd\n",
    "import seaborn as sns\n",
    "from matplotlib import pyplot as plt\n",
    "from tqdm.notebook import trange, tqdm\n",
    "\n",
    "from cashback_calculator.db import Card, N_MCCS, ALL_MCCS, MCC2ID, ID2MCC, \\\n",
    "    MCC_CATEGORIES, CARD_IDS\n",
    "from cashback_calculator.two_card_strategy_optimisation import optimize_cashback, \\\n",
    "    optimize_cashback_for_cards\n",
    "\n",
    "from myutils.json import save_json, load_json\n",
    "\n",
    "# %config InlineBackend.figure_formats = ['svg']\n",
    "plt.style.use('seaborn-whitegrid')\n",
    "plt.rcParams['axes.prop_cycle'] = plt.cycler(color=sns.color_palette('deep'))\n",
    "plt.rcParams['grid.linestyle'] = 'dotted'"
   ]
  },
  {
   "cell_type": "code",
   "execution_count": 3,
   "metadata": {},
   "outputs": [],
   "source": [
    "rcparams = {\n",
    "    'text.usetex' : True,\n",
    "    'font.family': [\n",
    "        'serif'\n",
    "    ],\n",
    "    'font.serif': [\n",
    "        'Computer Modern Roman',\n",
    "        'Times',\n",
    "        'Palatino',\n",
    "        'New Century Schoolbook',\n",
    "        'Bookman',\n",
    "    ],\n",
    "}\n",
    "\n",
    "plt.rcParams.update(rcparams)"
   ]
  },
  {
   "cell_type": "code",
   "execution_count": 4,
   "metadata": {},
   "outputs": [],
   "source": [
    "dblue = '#27488b'\n",
    "lblue = '#6d92de'\n",
    "dred = '#d91f43'"
   ]
  },
  {
   "cell_type": "code",
   "execution_count": 5,
   "metadata": {},
   "outputs": [
    {
     "data": {
      "text/html": [
       "<div>\n",
       "<style scoped>\n",
       "    .dataframe tbody tr th:only-of-type {\n",
       "        vertical-align: middle;\n",
       "    }\n",
       "\n",
       "    .dataframe tbody tr th {\n",
       "        vertical-align: top;\n",
       "    }\n",
       "\n",
       "    .dataframe thead th {\n",
       "        text-align: right;\n",
       "    }\n",
       "</style>\n",
       "<table border=\"1\" class=\"dataframe\">\n",
       "  <thead>\n",
       "    <tr style=\"text-align: right;\">\n",
       "      <th></th>\n",
       "      <th>date</th>\n",
       "      <th>income</th>\n",
       "      <th>expense</th>\n",
       "      <th>mcc</th>\n",
       "      <th>is_cashback</th>\n",
       "      <th>month</th>\n",
       "    </tr>\n",
       "  </thead>\n",
       "  <tbody>\n",
       "    <tr>\n",
       "      <th>0</th>\n",
       "      <td>2019-12-01</td>\n",
       "      <td>0.0</td>\n",
       "      <td>288.0</td>\n",
       "      <td>5814</td>\n",
       "      <td>False</td>\n",
       "      <td>2019-12-01</td>\n",
       "    </tr>\n",
       "    <tr>\n",
       "      <th>1</th>\n",
       "      <td>2019-12-01</td>\n",
       "      <td>0.0</td>\n",
       "      <td>200.0</td>\n",
       "      <td>5411</td>\n",
       "      <td>False</td>\n",
       "      <td>2019-12-01</td>\n",
       "    </tr>\n",
       "  </tbody>\n",
       "</table>\n",
       "</div>"
      ],
      "text/plain": [
       "        date  income  expense   mcc  is_cashback      month\n",
       "0 2019-12-01     0.0    288.0  5814        False 2019-12-01\n",
       "1 2019-12-01     0.0    200.0  5411        False 2019-12-01"
      ]
     },
     "execution_count": 5,
     "metadata": {},
     "output_type": "execute_result"
    }
   ],
   "source": [
    "money_movement = pd.read_csv('../data/money_movement.csv', dtype={'mcc': str}, parse_dates=['date'])\n",
    "\n",
    "date_mask = (money_movement['date'] >= datetime(year=2019, month=12, day=1))\\\n",
    "    & (money_movement['date'] < datetime(year=2020, month=12, day=1))\n",
    "\n",
    "money_movement = money_movement[date_mask].reset_index(drop=True)\n",
    "\n",
    "money_movement['month'] = money_movement['date'].apply(lambda x: x.replace(day=1))\n",
    "\n",
    "money_movement.head(2)"
   ]
  },
  {
   "cell_type": "markdown",
   "metadata": {},
   "source": [
    "## Testing workability"
   ]
  },
  {
   "cell_type": "code",
   "execution_count": 6,
   "metadata": {},
   "outputs": [
    {
     "data": {
      "text/plain": [
       "numpy.datetime64('2020-11-01T00:00:00.000000000')"
      ]
     },
     "execution_count": 6,
     "metadata": {},
     "output_type": "execute_result"
    }
   ],
   "source": [
    "month = money_movement['month'].unique()[-1]\n",
    "month"
   ]
  },
  {
   "cell_type": "code",
   "execution_count": 7,
   "metadata": {},
   "outputs": [
    {
     "data": {
      "text/plain": [
       "((572,), 90683.78999999998)"
      ]
     },
     "execution_count": 7,
     "metadata": {},
     "output_type": "execute_result"
    }
   ],
   "source": [
    "spendings = money_movement.loc[money_movement['month'] == month].groupby('mcc')['expense'].sum()\n",
    "vector = spendings.reindex(ALL_MCCS).fillna(0).values * 1.5\n",
    "\n",
    "vector.shape, vector.sum()"
   ]
  },
  {
   "cell_type": "code",
   "execution_count": 8,
   "metadata": {},
   "outputs": [
    {
     "data": {
      "text/plain": [
       "14"
      ]
     },
     "execution_count": 8,
     "metadata": {},
     "output_type": "execute_result"
    }
   ],
   "source": [
    "cards = [Card(card_id) for card_id in CARD_IDS]\n",
    "\n",
    "len(cards)"
   ]
  },
  {
   "cell_type": "code",
   "execution_count": 9,
   "metadata": {},
   "outputs": [
    {
     "data": {
      "text/plain": [
       "(Card(card_id='bspb_visa-cashback', bank_id='bspb'),\n",
       " Card(card_id='bspb_travel', bank_id='bspb'))"
      ]
     },
     "execution_count": 9,
     "metadata": {},
     "output_type": "execute_result"
    }
   ],
   "source": [
    "c1 = cards[5]\n",
    "c2 = cards[9]\n",
    "\n",
    "c1, c2"
   ]
  },
  {
   "cell_type": "code",
   "execution_count": 10,
   "metadata": {},
   "outputs": [
    {
     "data": {
      "text/plain": [
       "(array([ 0., inf]), array([ 0., inf]))"
      ]
     },
     "execution_count": 10,
     "metadata": {},
     "output_type": "execute_result"
    }
   ],
   "source": [
    "c1.benchmarks, c2.benchmarks"
   ]
  },
  {
   "cell_type": "code",
   "execution_count": 11,
   "metadata": {},
   "outputs": [
    {
     "data": {
      "application/vnd.jupyter.widget-view+json": {
       "model_id": "884d9fddb8ee439eab20c165ed7a7bea",
       "version_major": 2,
       "version_minor": 0
      },
      "text/plain": [
       "  0%|          | 0/91 [00:00<?, ?it/s]"
      ]
     },
     "metadata": {},
     "output_type": "display_data"
    },
    {
     "data": {
      "text/plain": [
       "3357.607800044737"
      ]
     },
     "execution_count": 11,
     "metadata": {},
     "output_type": "execute_result"
    }
   ],
   "source": [
    "result = optimize_cashback(vector, cards, progress_bar=True)\n",
    "\n",
    "result[0][-1]"
   ]
  },
  {
   "cell_type": "markdown",
   "metadata": {},
   "source": [
    "## Testing time complexity"
   ]
  },
  {
   "cell_type": "code",
   "execution_count": 12,
   "metadata": {},
   "outputs": [
    {
     "data": {
      "text/html": [
       "<div>\n",
       "<style scoped>\n",
       "    .dataframe tbody tr th:only-of-type {\n",
       "        vertical-align: middle;\n",
       "    }\n",
       "\n",
       "    .dataframe tbody tr th {\n",
       "        vertical-align: top;\n",
       "    }\n",
       "\n",
       "    .dataframe thead th {\n",
       "        text-align: right;\n",
       "    }\n",
       "</style>\n",
       "<table border=\"1\" class=\"dataframe\">\n",
       "  <thead>\n",
       "    <tr style=\"text-align: right;\">\n",
       "      <th></th>\n",
       "      <th>n</th>\n",
       "      <th>t</th>\n",
       "    </tr>\n",
       "  </thead>\n",
       "  <tbody>\n",
       "    <tr>\n",
       "      <th>0</th>\n",
       "      <td>2.0</td>\n",
       "      <td>0.000172</td>\n",
       "    </tr>\n",
       "    <tr>\n",
       "      <th>1</th>\n",
       "      <td>2.0</td>\n",
       "      <td>0.003991</td>\n",
       "    </tr>\n",
       "  </tbody>\n",
       "</table>\n",
       "</div>"
      ],
      "text/plain": [
       "     n         t\n",
       "0  2.0  0.000172\n",
       "1  2.0  0.003991"
      ]
     },
     "execution_count": 12,
     "metadata": {},
     "output_type": "execute_result"
    }
   ],
   "source": [
    "runtime = load_json('../data/tests/speed_test_results.json')\n",
    "\n",
    "runtime = pd.DataFrame(runtime, columns=['n', 't'])\n",
    "\n",
    "runtime.head(2)"
   ]
  },
  {
   "cell_type": "code",
   "execution_count": 76,
   "metadata": {},
   "outputs": [
    {
     "data": {
      "image/png": "[encoded data removed]",
      "text/plain": [
       "<Figure size 360x216 with 1 Axes>"
      ]
     },
     "metadata": {},
     "output_type": "display_data"
    }
   ],
   "source": [
    "plt.figure(figsize=(5, 3))\n",
    "\n",
    "sns.lineplot(data=runtime, x='n', y='t', lw=0.8, color='C0',\n",
    "             marker='.', markersize=4, markeredgewidth=0,\n",
    "             zorder=5,\n",
    "             err_style='bars', err_kws={'linewidth': 0.5, 'ecolor': 'C0', 'capsize': 1.2, 'capthick': 0.5})\n",
    "\n",
    "plt.xlabel('number of MCCs')\n",
    "plt.ylabel('run time (seconds)')\n",
    "\n",
    "plt.savefig('../data/figures/runtime.pdf', transparent=True, bbox_inches='tight')"
   ]
  },
  {
   "cell_type": "markdown",
   "metadata": {},
   "source": [
    "## Testing vs. brute force"
   ]
  },
  {
   "cell_type": "code",
   "execution_count": 20,
   "metadata": {},
   "outputs": [
    {
     "data": {
      "text/plain": [
       "{'5811': 'restaurants',\n",
       " '5814': 'fastfood',\n",
       " '5541': 'fuel',\n",
       " '4121': 'taxi',\n",
       " '5411': 'groceries',\n",
       " '5912': 'pharmacies',\n",
       " '7832': 'cinema',\n",
       " '3000': 'airlines',\n",
       " '1711': 'other'}"
      ]
     },
     "execution_count": 20,
     "metadata": {},
     "output_type": "execute_result"
    }
   ],
   "source": [
    "mcc_categories = {\n",
    "    category: mccs[:1]\n",
    "    for category, mccs in MCC_CATEGORIES.items()\n",
    "}\n",
    "\n",
    "mcc2category = {\n",
    "    mcc: category\n",
    "    for category, mccs in mcc_categories.items()\n",
    "    for mcc in mccs\n",
    "}\n",
    "\n",
    "mcc2category"
   ]
  },
  {
   "cell_type": "code",
   "execution_count": 21,
   "metadata": {},
   "outputs": [],
   "source": [
    "def get_vector(amount_spent_by_category) -> np.ndarray:\n",
    "    vector = np.zeros(N_MCCS)\n",
    "    \n",
    "    for key, value in amount_spent_by_category.items():\n",
    "        if value > 0:\n",
    "            value -= 0.01\n",
    "            mccs = mcc_categories[key]\n",
    "            n_mccs = len(mccs)\n",
    "            mask = list(map(MCC2ID.get, mccs))\n",
    "            vector[mask] = value / n_mccs\n",
    "            \n",
    "    return vector"
   ]
  },
  {
   "cell_type": "code",
   "execution_count": 22,
   "metadata": {},
   "outputs": [],
   "source": [
    "category_values = [\n",
    "    ('restaurants', 15000, 3000),\n",
    "    ('fastfood', 5000, 1000),\n",
    "    ('fuel', 1500, 500),\n",
    "    ('taxi', 2500, 500),\n",
    "    ('groceries', 1800, 2000),\n",
    "    ('pharmacies', 2000, 1000),\n",
    "    ('cinema', 3500, 1000),\n",
    "    ('airlines', 10000, 4000),\n",
    "    ('other', 20000, 1500)\n",
    "]"
   ]
  },
  {
   "cell_type": "code",
   "execution_count": 23,
   "metadata": {},
   "outputs": [],
   "source": [
    "def get_random_spendings_vector(n_values: int = 6) -> np.ndarray:\n",
    "    inds = np.random.choice(np.arange(len(category_values)), size=n_values, replace=False)\n",
    "    amount_spent_by_category = {}\n",
    "    \n",
    "    for i in inds:\n",
    "        name, mu, sigma = category_values[i]\n",
    "        amount = np.random.normal(mu, sigma)\n",
    "        amount_spent_by_category[name] = amount\n",
    "        \n",
    "    vector = get_vector(amount_spent_by_category)\n",
    "    vector[vector < 0] = 0\n",
    "    \n",
    "    return vector * 2"
   ]
  },
  {
   "cell_type": "code",
   "execution_count": 24,
   "metadata": {},
   "outputs": [
    {
     "data": {
      "text/plain": [
       "76198.92263467779"
      ]
     },
     "execution_count": 24,
     "metadata": {},
     "output_type": "execute_result"
    }
   ],
   "source": [
    "vector = get_random_spendings_vector(6)\n",
    "\n",
    "vector.sum()"
   ]
  },
  {
   "cell_type": "code",
   "execution_count": 25,
   "metadata": {},
   "outputs": [],
   "source": [
    "def maximize_profit_brute_force(\n",
    "        spendings_vector: np.ndarray,\n",
    "        c1: Card,\n",
    "        c2: Card,\n",
    "        grid_size: int = 3,\n",
    "        progress_bar: bool = False,\n",
    ") -> float:\n",
    "    nonzero_ids = np.where(spendings_vector > 0)[0]\n",
    "    \n",
    "    grid = list(product(np.linspace(0, 1, grid_size), repeat=len(nonzero_ids)))\n",
    "    results = []\n",
    "    \n",
    "    for values in tqdm(grid, disable=not progress_bar):\n",
    "        x = np.zeros(spendings_vector.size)\n",
    "        x[nonzero_ids] = np.array(list(values))\n",
    "        \n",
    "        profit = c1.calculate_profit(spendings_vector * x) + c2.calculate_profit(spendings_vector * (1 - x))\n",
    "        results.append((x, profit))\n",
    "            \n",
    "    x, profit = max(results, key=itemgetter(1))\n",
    "    \n",
    "    return x, profit"
   ]
  },
  {
   "cell_type": "code",
   "execution_count": 29,
   "metadata": {},
   "outputs": [
    {
     "data": {
      "text/plain": [
       "'tinkoff_black'"
      ]
     },
     "execution_count": 29,
     "metadata": {},
     "output_type": "execute_result"
    }
   ],
   "source": [
    "cards[0].card_id"
   ]
  },
  {
   "cell_type": "raw",
   "metadata": {},
   "source": [
    "results = []\n",
    "\n",
    "for _ in trange(5):\n",
    "    vector = get_random_spendings_vector(6)\n",
    "    \n",
    "    for j, (c1, c2) in enumerate(combinations(cards, 2)):\n",
    "        _, _, _, profit_opt = optimize_cashback_for_cards(vector, c1, c2)\n",
    "        _, profit_brute_force = maximize_profit_brute_force(vector, c1, c2, grid_size=4)\n",
    "    \n",
    "        if j % 50 == 0:\n",
    "            err = np.mean([r[2] - r[3] for r in results[-50:]])\n",
    "            print(err)\n",
    "    \n",
    "        results.append((c1.card_id, c2.card_id, profit_opt, profit_brute_force))\n",
    "        \n",
    "results = pd.DataFrame(results, columns=['c1', 'c2', 'opt', 'bf'])\n",
    "\n",
    "results['diff'] = (results['opt'] - results['bf']) / results['opt']\n",
    "results = results.sort_values(by='diff', ascending=False)\n",
    "\n",
    "results.head(2)"
   ]
  },
  {
   "cell_type": "raw",
   "metadata": {},
   "source": [
    "results.to_csv('../data/tests/vs_brute_force.csv', index=False)"
   ]
  },
  {
   "cell_type": "code",
   "execution_count": 58,
   "metadata": {},
   "outputs": [
    {
     "data": {
      "text/html": [
       "<div>\n",
       "<style scoped>\n",
       "    .dataframe tbody tr th:only-of-type {\n",
       "        vertical-align: middle;\n",
       "    }\n",
       "\n",
       "    .dataframe tbody tr th {\n",
       "        vertical-align: top;\n",
       "    }\n",
       "\n",
       "    .dataframe thead th {\n",
       "        text-align: right;\n",
       "    }\n",
       "</style>\n",
       "<table border=\"1\" class=\"dataframe\">\n",
       "  <thead>\n",
       "    <tr style=\"text-align: right;\">\n",
       "      <th></th>\n",
       "      <th>c1</th>\n",
       "      <th>c2</th>\n",
       "      <th>opt</th>\n",
       "      <th>bf</th>\n",
       "      <th>diff</th>\n",
       "      <th>mape</th>\n",
       "    </tr>\n",
       "  </thead>\n",
       "  <tbody>\n",
       "    <tr>\n",
       "      <th>0</th>\n",
       "      <td>Card(card_id='bspb_yarkaya', bank_id='bspb')</td>\n",
       "      <td>Card(card_id='sberbank_karta-s-bolshimi-bonusa...</td>\n",
       "      <td>2667.740544</td>\n",
       "      <td>2607.907967</td>\n",
       "      <td>0.022428</td>\n",
       "      <td>-0.022943</td>\n",
       "    </tr>\n",
       "    <tr>\n",
       "      <th>1</th>\n",
       "      <td>Card(card_id='bspb_visa-cashback', bank_id='bs...</td>\n",
       "      <td>Card(card_id='alfabank_cashback', bank_id='alf...</td>\n",
       "      <td>4055.062390</td>\n",
       "      <td>4013.394395</td>\n",
       "      <td>0.010276</td>\n",
       "      <td>-0.010382</td>\n",
       "    </tr>\n",
       "  </tbody>\n",
       "</table>\n",
       "</div>"
      ],
      "text/plain": [
       "                                                  c1  \\\n",
       "0       Card(card_id='bspb_yarkaya', bank_id='bspb')   \n",
       "1  Card(card_id='bspb_visa-cashback', bank_id='bs...   \n",
       "\n",
       "                                                  c2          opt  \\\n",
       "0  Card(card_id='sberbank_karta-s-bolshimi-bonusa...  2667.740544   \n",
       "1  Card(card_id='alfabank_cashback', bank_id='alf...  4055.062390   \n",
       "\n",
       "            bf      diff      mape  \n",
       "0  2607.907967  0.022428 -0.022943  \n",
       "1  4013.394395  0.010276 -0.010382  "
      ]
     },
     "execution_count": 58,
     "metadata": {},
     "output_type": "execute_result"
    }
   ],
   "source": [
    "results = pd.read_csv('../data/tests/vs_brute_force.csv')\n",
    "\n",
    "results['c1'] = results['c1'].apply(Card)\n",
    "results['c2'] = results['c2'].apply(Card)\n",
    "\n",
    "results.head(2)"
   ]
  },
  {
   "cell_type": "code",
   "execution_count": 77,
   "metadata": {},
   "outputs": [
    {
     "data": {
      "image/png": "[encoded data removed]",
      "text/plain": [
       "<Figure size 360x216 with 1 Axes>"
      ]
     },
     "metadata": {},
     "output_type": "display_data"
    }
   ],
   "source": [
    "plt.figure(figsize=(5, 3))\n",
    "\n",
    "hist = plt.hist(results['diff'], bins=40, zorder=5)\n",
    "\n",
    "plt.xlabel('relative difference')\n",
    "plt.yscale('log')\n",
    "\n",
    "plt.savefig('../data/figures/vs_brute_force.pdf', transparent=True, bbox_inches='tight')"
   ]
  },
  {
   "cell_type": "markdown",
   "metadata": {},
   "source": [
    "## Results on real data"
   ]
  },
  {
   "cell_type": "code",
   "execution_count": 6,
   "metadata": {},
   "outputs": [
    {
     "data": {
      "text/plain": [
       "<AxesSubplot:xlabel='month'>"
      ]
     },
     "execution_count": 6,
     "metadata": {},
     "output_type": "execute_result"
    },
    {
     "data": {
      "image/png": "[encoded data removed]",
      "text/plain": [
       "<Figure size 432x288 with 1 Axes>"
      ]
     },
     "metadata": {},
     "output_type": "display_data"
    }
   ],
   "source": [
    "monthly_spendings = money_movement.groupby('month')['expense'].sum()\n",
    "\n",
    "monthly_spendings.plot()"
   ]
  },
  {
   "cell_type": "code",
   "execution_count": 7,
   "metadata": {},
   "outputs": [
    {
     "data": {
      "text/plain": [
       "<AxesSubplot:xlabel='month'>"
      ]
     },
     "execution_count": 7,
     "metadata": {},
     "output_type": "execute_result"
    },
    {
     "data": {
      "image/png": "[encoded data removed]",
      "text/plain": [
       "<Figure size 432x288 with 1 Axes>"
      ]
     },
     "metadata": {},
     "output_type": "display_data"
    }
   ],
   "source": [
    "monthly_cashback = money_movement[money_movement['is_cashback']].groupby('month')['income'].sum()\n",
    "\n",
    "monthly_cashback.plot()"
   ]
  },
  {
   "cell_type": "raw",
   "metadata": {},
   "source": [
    "def fill_cashback_blanks(monthly_cashback: pd.Series, monthly_spendings: pd.Series) -> pd.Series:\n",
    "    monthly_cashback = monthly_cashback.reindex(monthly_spendings.index)\n",
    "    \n",
    "    for date, value in monthly_cashback.iteritems():\n",
    "        if np.isnan(value):\n",
    "            nan_months = [date]\n",
    "            first_nonna_value = None\n",
    "            \n",
    "            for date1, value1 in monthly_cashback[monthly_cashback.index > date].iteritems():\n",
    "                nan_months.append(date1)\n",
    "                \n",
    "                if not np.isnan(value1):\n",
    "                    first_nonna_value = value1\n",
    "                    break\n",
    "            \n",
    "            nan_month_spendings = monthly_spendings.loc[nan_months].copy()\n",
    "            nan_month_spending_rates = nan_month_spendings / nan_month_spendings.sum()\n",
    "            nan_month_estimated_cashback = nan_month_spending_rates * first_nonna_value\n",
    "            \n",
    "            monthly_cashback.loc[nan_months] = nan_month_estimated_cashback\n",
    "            \n",
    "    return monthly_cashback"
   ]
  },
  {
   "cell_type": "raw",
   "metadata": {},
   "source": [
    "monthly_cashback_filled = fill_cashback_blanks(monthly_cashback, monthly_spendings)\n",
    "\n",
    "monthly_cashback_filled.plot()"
   ]
  },
  {
   "cell_type": "code",
   "execution_count": 8,
   "metadata": {},
   "outputs": [
    {
     "data": {
      "image/png": "[encoded data removed]",
      "text/plain": [
       "<Figure size 360x216 with 2 Axes>"
      ]
     },
     "metadata": {},
     "output_type": "display_data"
    }
   ],
   "source": [
    "plt.figure(figsize=(5, 3))\n",
    "\n",
    "ax1 = plt.gca()\n",
    "\n",
    "monthly_spendings.plot(ax=ax1, lw=0.8, zorder=5,\n",
    "                       marker='.', markersize=2, color='C3',\n",
    "                       label='spendings')\n",
    "\n",
    "# ax1.plot(monthly_spendings, lw=0.8, zorder=5,\n",
    "#          marker='.', markersize=2, color='C2', label='spendings')\n",
    "\n",
    "ax1.set_xlabel('month')\n",
    "ax1.set_ylabel('spendings', color='C3')\n",
    "# ax1.tick_params(axis='x', rotation=10)\n",
    "ax1.tick_params(axis='y', labelcolor='C3')\n",
    "# ax1.grid(ls='dotted')\n",
    "ax1.legend(loc='upper left', bbox_to_anchor=(-0.1, -0.15))\n",
    "\n",
    "yticks = np.arange(0, 240000, 40000)\n",
    "ax1.set_yticks(yticks[1:])\n",
    "ax1.set_yticklabels(yticks[1:])\n",
    "ax1.set_ylim(yticks[0], yticks[-1])\n",
    "\n",
    "ax2 = ax1.twinx()\n",
    "\n",
    "monthly_cashback.plot(ax=ax2, lw=0.8, zorder=5,\n",
    "                      marker='.', markersize=2, color='C0',\n",
    "                      ls='dashed', label='cashback')\n",
    "\n",
    "# ax2.plot(monthly_cashback_filled, lw=0.8, zorder=5,\n",
    "#          marker='.', markersize=2, color='C0', ls='dashed', label='cashback')\n",
    "\n",
    "yticks = yticks // 20\n",
    "ax2.set_yticks(yticks[1:])\n",
    "ax2.set_yticklabels(yticks[1:])\n",
    "ax2.set_ylim(yticks[0], yticks[-1])\n",
    "\n",
    "ax2.set_ylabel('cashback', color='C0')\n",
    "ax2.tick_params(axis='y', labelcolor='C0')\n",
    "ax2.legend(loc='upper right', bbox_to_anchor=(1.1, -0.15))\n",
    "ax2.grid(False)\n",
    "\n",
    "plt.savefig('../data/figures/real_spendings_vs_cashback.pdf', transparent=True, bbox_inches='tight')"
   ]
  },
  {
   "cell_type": "code",
   "execution_count": 9,
   "metadata": {},
   "outputs": [
    {
     "data": {
      "text/plain": [
       "14"
      ]
     },
     "execution_count": 9,
     "metadata": {},
     "output_type": "execute_result"
    }
   ],
   "source": [
    "all_mccs = money_movement.loc[money_movement['mcc'].notna(), 'mcc'].unique().tolist()\n",
    "\n",
    "cards = [Card(card_id, all_mccs) for card_id in CARD_IDS]\n",
    "\n",
    "len(cards)"
   ]
  },
  {
   "cell_type": "code",
   "execution_count": 10,
   "metadata": {},
   "outputs": [
    {
     "data": {
      "application/vnd.jupyter.widget-view+json": {
       "model_id": "ae86defed2de4496ba793b1b024618aa",
       "version_major": 2,
       "version_minor": 0
      },
      "text/plain": [
       "  0%|          | 0/12 [00:00<?, ?it/s]"
      ]
     },
     "metadata": {},
     "output_type": "display_data"
    },
    {
     "data": {
      "text/html": [
       "<div>\n",
       "<style scoped>\n",
       "    .dataframe tbody tr th:only-of-type {\n",
       "        vertical-align: middle;\n",
       "    }\n",
       "\n",
       "    .dataframe tbody tr th {\n",
       "        vertical-align: top;\n",
       "    }\n",
       "\n",
       "    .dataframe thead th {\n",
       "        text-align: right;\n",
       "    }\n",
       "</style>\n",
       "<table border=\"1\" class=\"dataframe\">\n",
       "  <thead>\n",
       "    <tr style=\"text-align: right;\">\n",
       "      <th></th>\n",
       "      <th>c1</th>\n",
       "      <th>c2</th>\n",
       "      <th>month</th>\n",
       "      <th>profit</th>\n",
       "    </tr>\n",
       "  </thead>\n",
       "  <tbody>\n",
       "    <tr>\n",
       "      <th>0</th>\n",
       "      <td>Tinkoff Black</td>\n",
       "      <td>None</td>\n",
       "      <td>2019-12-01</td>\n",
       "      <td>706.3379</td>\n",
       "    </tr>\n",
       "    <tr>\n",
       "      <th>1</th>\n",
       "      <td>Tinkoff Drive</td>\n",
       "      <td>None</td>\n",
       "      <td>2019-12-01</td>\n",
       "      <td>706.3379</td>\n",
       "    </tr>\n",
       "  </tbody>\n",
       "</table>\n",
       "</div>"
      ],
      "text/plain": [
       "              c1    c2      month    profit\n",
       "0  Tinkoff Black  None 2019-12-01  706.3379\n",
       "1  Tinkoff Drive  None 2019-12-01  706.3379"
      ]
     },
     "execution_count": 10,
     "metadata": {},
     "output_type": "execute_result"
    }
   ],
   "source": [
    "profit = []\n",
    "\n",
    "for month in tqdm(money_movement['month'].unique()):\n",
    "    vector = money_movement[money_movement['month'] == month].groupby('mcc')['expense'].sum()\n",
    "    vector = vector.reindex(all_mccs).fillna(0).values\n",
    "    \n",
    "    for c in cards:\n",
    "        p = c.calculate_profit(vector)\n",
    "        profit.append((c.card_name, 'None', month, p))\n",
    "\n",
    "    for c1, c2 in combinations(cards, 2):\n",
    "        _, _, _, p = optimize_cashback_for_cards(vector, c1, c2)\n",
    "        profit.append((c1.card_name, c2.card_name, month, p))\n",
    "\n",
    "profit = pd.DataFrame(profit, columns=['c1', 'c2', 'month', 'profit'])\n",
    "\n",
    "profit.head(2)"
   ]
  },
  {
   "cell_type": "code",
   "execution_count": 11,
   "metadata": {},
   "outputs": [
    {
     "data": {
      "text/html": [
       "<div>\n",
       "<style scoped>\n",
       "    .dataframe tbody tr th:only-of-type {\n",
       "        vertical-align: middle;\n",
       "    }\n",
       "\n",
       "    .dataframe tbody tr th {\n",
       "        vertical-align: top;\n",
       "    }\n",
       "\n",
       "    .dataframe thead th {\n",
       "        text-align: right;\n",
       "    }\n",
       "</style>\n",
       "<table border=\"1\" class=\"dataframe\">\n",
       "  <thead>\n",
       "    <tr style=\"text-align: right;\">\n",
       "      <th></th>\n",
       "      <th>c1</th>\n",
       "      <th>c2</th>\n",
       "      <th>profit</th>\n",
       "    </tr>\n",
       "  </thead>\n",
       "  <tbody>\n",
       "    <tr>\n",
       "      <th>0</th>\n",
       "      <td>Bank SPb Cashback</td>\n",
       "      <td>Bank SPb MC World</td>\n",
       "      <td>30592.674259</td>\n",
       "    </tr>\n",
       "    <tr>\n",
       "      <th>1</th>\n",
       "      <td>Bank SPb Cashback</td>\n",
       "      <td>Alfabank Alfacard</td>\n",
       "      <td>29815.003309</td>\n",
       "    </tr>\n",
       "    <tr>\n",
       "      <th>2</th>\n",
       "      <td>Bank SPb Cashback</td>\n",
       "      <td>Bank SPb Travel</td>\n",
       "      <td>29034.761870</td>\n",
       "    </tr>\n",
       "    <tr>\n",
       "      <th>3</th>\n",
       "      <td>Raiffeisen Cashback Card</td>\n",
       "      <td>Bank SPb Cashback</td>\n",
       "      <td>28818.906260</td>\n",
       "    </tr>\n",
       "    <tr>\n",
       "      <th>4</th>\n",
       "      <td>Bank SPb Cashback</td>\n",
       "      <td>Sberbank Large Bonuses Card</td>\n",
       "      <td>27385.294334</td>\n",
       "    </tr>\n",
       "  </tbody>\n",
       "</table>\n",
       "</div>"
      ],
      "text/plain": [
       "                         c1                           c2        profit\n",
       "0         Bank SPb Cashback            Bank SPb MC World  30592.674259\n",
       "1         Bank SPb Cashback            Alfabank Alfacard  29815.003309\n",
       "2         Bank SPb Cashback              Bank SPb Travel  29034.761870\n",
       "3  Raiffeisen Cashback Card            Bank SPb Cashback  28818.906260\n",
       "4         Bank SPb Cashback  Sberbank Large Bonuses Card  27385.294334"
      ]
     },
     "execution_count": 11,
     "metadata": {},
     "output_type": "execute_result"
    }
   ],
   "source": [
    "total_profit = profit.groupby(['c1', 'c2'])['profit'].sum().sort_values(ascending=False).reset_index()\n",
    "\n",
    "total_profit.head()"
   ]
  },
  {
   "cell_type": "code",
   "execution_count": 12,
   "metadata": {},
   "outputs": [
    {
     "data": {
      "text/html": [
       "<div>\n",
       "<style scoped>\n",
       "    .dataframe tbody tr th:only-of-type {\n",
       "        vertical-align: middle;\n",
       "    }\n",
       "\n",
       "    .dataframe tbody tr th {\n",
       "        vertical-align: top;\n",
       "    }\n",
       "\n",
       "    .dataframe thead th {\n",
       "        text-align: right;\n",
       "    }\n",
       "</style>\n",
       "<table border=\"1\" class=\"dataframe\">\n",
       "  <thead>\n",
       "    <tr style=\"text-align: right;\">\n",
       "      <th></th>\n",
       "      <th>c1</th>\n",
       "      <th>c2</th>\n",
       "      <th>profit</th>\n",
       "    </tr>\n",
       "  </thead>\n",
       "  <tbody>\n",
       "    <tr>\n",
       "      <th>10</th>\n",
       "      <td>Bank SPb Cashback</td>\n",
       "      <td>None</td>\n",
       "      <td>25586.14210</td>\n",
       "    </tr>\n",
       "    <tr>\n",
       "      <th>36</th>\n",
       "      <td>Bank SPb MC World</td>\n",
       "      <td>None</td>\n",
       "      <td>17312.10650</td>\n",
       "    </tr>\n",
       "    <tr>\n",
       "      <th>41</th>\n",
       "      <td>Sberbank Large Bonuses Card</td>\n",
       "      <td>None</td>\n",
       "      <td>17250.18645</td>\n",
       "    </tr>\n",
       "    <tr>\n",
       "      <th>50</th>\n",
       "      <td>Bank SPb EKP</td>\n",
       "      <td>None</td>\n",
       "      <td>16310.22210</td>\n",
       "    </tr>\n",
       "    <tr>\n",
       "      <th>66</th>\n",
       "      <td>Alfabank Alfacard</td>\n",
       "      <td>None</td>\n",
       "      <td>14000.44470</td>\n",
       "    </tr>\n",
       "  </tbody>\n",
       "</table>\n",
       "</div>"
      ],
      "text/plain": [
       "                             c1    c2       profit\n",
       "10            Bank SPb Cashback  None  25586.14210\n",
       "36            Bank SPb MC World  None  17312.10650\n",
       "41  Sberbank Large Bonuses Card  None  17250.18645\n",
       "50                 Bank SPb EKP  None  16310.22210\n",
       "66            Alfabank Alfacard  None  14000.44470"
      ]
     },
     "execution_count": 12,
     "metadata": {},
     "output_type": "execute_result"
    }
   ],
   "source": [
    "total_profit[total_profit['c2'] == 'None'].head()"
   ]
  },
  {
   "cell_type": "code",
   "execution_count": 13,
   "metadata": {},
   "outputs": [],
   "source": [
    "ids = [1, 3, 10, 41]"
   ]
  },
  {
   "cell_type": "code",
   "execution_count": 14,
   "metadata": {},
   "outputs": [
    {
     "data": {
      "image/png": "[encoded data removed]",
      "text/plain": [
       "<Figure size 360x216 with 1 Axes>"
      ]
     },
     "metadata": {},
     "output_type": "display_data"
    }
   ],
   "source": [
    "plt.figure(figsize=(5, 3))\n",
    "\n",
    "monthly_cashback.iloc[1:]\\\n",
    "    .plot(label='current cashback', lw=0.8,\n",
    "          ls='dashed', marker='.', markersize=3,\n",
    "          zorder=5, color='C0')\n",
    "\n",
    "# plt.plot(monthly_cashback_filled, label='Current cashback',\n",
    "#          lw=0.8, ls='dashed', marker='.', markersize=3, zorder=5, color='C0')\n",
    "\n",
    "for j, i in enumerate(ids, start=1):\n",
    "    row = total_profit.loc[i]\n",
    "    \n",
    "    c1 = row['c1']\n",
    "    c2 = row['c2']\n",
    "    \n",
    "    cards_profit = profit[(profit['c1'] == c1) & (profit['c2'] == c2)]\n",
    "    \n",
    "    label = c1\n",
    "    \n",
    "    if c2 != 'None':\n",
    "        label += ' + ' + c2\n",
    "    \n",
    "    color = f'C{j}'\n",
    "    \n",
    "    cards_profit.set_index('month')['profit'].shift().iloc[1:]\\\n",
    "        .plot(label=label, lw=0.8,marker='.', markersize=3, zorder=5, color=color)\n",
    "    \n",
    "#     plt.plot(cards_profit['month'], cards_profit['profit'], label=label,\n",
    "#              lw=0.8, marker='.', markersize=3, zorder=5, color=color)\n",
    "    \n",
    "plt.legend(loc='lower left', bbox_to_anchor=(1, 0), prop={'size': 10})\n",
    "# plt.xticks(rotation=10)\n",
    "# plt.grid(ls='dotted')\n",
    "plt.xlabel('month')\n",
    "plt.ylabel('profit')\n",
    "\n",
    "plt.savefig('../data/figures/monthly_cashback.pdf', transparent=True, bbox_inches='tight')"
   ]
  },
  {
   "cell_type": "code",
   "execution_count": 15,
   "metadata": {},
   "outputs": [
    {
     "data": {
      "text/plain": [
       "c1\n",
       "Alfabank Alfacard              14000.44470\n",
       "Alfabank Cashback              12733.42525\n",
       "Alfabank Next                   9209.37000\n",
       "Bank SPb Cashback              25586.14210\n",
       "Bank SPb Classic                4403.57305\n",
       "Bank SPb EKP                   16310.22210\n",
       "Bank SPb MC World              17312.10650\n",
       "Bank SPb Pensionary             1825.90560\n",
       "Bank SPb Travel                13210.71915\n",
       "Raiffeisen Cashback Card       12524.81115\n",
       "Raiffeisen Gold                  410.16250\n",
       "Sberbank Large Bonuses Card    17250.18645\n",
       "Tinkoff Black                   8738.12560\n",
       "Tinkoff Drive                   9722.27530\n",
       "Name: profit, dtype: float64"
      ]
     },
     "execution_count": 15,
     "metadata": {},
     "output_type": "execute_result"
    }
   ],
   "source": [
    "mask = profit['c2'] == 'None'\n",
    "\n",
    "profit_single = profit[mask].groupby('c1')['profit'].sum().sort_index()\n",
    "\n",
    "profit_single"
   ]
  },
  {
   "cell_type": "code",
   "execution_count": 16,
   "metadata": {},
   "outputs": [
    {
     "data": {
      "text/plain": [
       "c1                 c2                         \n",
       "Alfabank Alfacard  Alfabank Next                  20372.868072\n",
       "                   Sberbank Large Bonuses Card    21438.911310\n",
       "Alfabank Cashback  Alfabank Alfacard              16850.254173\n",
       "                   Alfabank Next                  15150.639162\n",
       "                   Sberbank Large Bonuses Card    17716.880599\n",
       "                                                      ...     \n",
       "Tinkoff Drive      Bank SPb Pensionary             9722.275189\n",
       "                   Bank SPb Travel                14135.900848\n",
       "                   Raiffeisen Cashback Card       13825.463918\n",
       "                   Raiffeisen Gold                 9722.275267\n",
       "                   Sberbank Large Bonuses Card    17537.059894\n",
       "Name: profit, Length: 91, dtype: float64"
      ]
     },
     "execution_count": 16,
     "metadata": {},
     "output_type": "execute_result"
    }
   ],
   "source": [
    "profit_dual = profit[~mask].groupby(['c1', 'c2'])['profit'].sum().sort_index()\n",
    "\n",
    "profit_dual"
   ]
  },
  {
   "cell_type": "code",
   "execution_count": 17,
   "metadata": {},
   "outputs": [
    {
     "data": {
      "text/html": [
       "<div>\n",
       "<style scoped>\n",
       "    .dataframe tbody tr th:only-of-type {\n",
       "        vertical-align: middle;\n",
       "    }\n",
       "\n",
       "    .dataframe tbody tr th {\n",
       "        vertical-align: top;\n",
       "    }\n",
       "\n",
       "    .dataframe thead th {\n",
       "        text-align: right;\n",
       "    }\n",
       "</style>\n",
       "<table border=\"1\" class=\"dataframe\">\n",
       "  <thead>\n",
       "    <tr style=\"text-align: right;\">\n",
       "      <th></th>\n",
       "      <th></th>\n",
       "      <th>0</th>\n",
       "      <th>1</th>\n",
       "    </tr>\n",
       "    <tr>\n",
       "      <th>c1</th>\n",
       "      <th>c2</th>\n",
       "      <th></th>\n",
       "      <th></th>\n",
       "    </tr>\n",
       "  </thead>\n",
       "  <tbody>\n",
       "    <tr>\n",
       "      <th rowspan=\"2\" valign=\"top\">Alfabank Alfacard</th>\n",
       "      <th>Alfabank Next</th>\n",
       "      <td>0.452041</td>\n",
       "      <td>0.687210</td>\n",
       "    </tr>\n",
       "    <tr>\n",
       "      <th>Sberbank Large Bonuses Card</th>\n",
       "      <td>0.653039</td>\n",
       "      <td>0.804620</td>\n",
       "    </tr>\n",
       "    <tr>\n",
       "      <th rowspan=\"3\" valign=\"top\">Alfabank Cashback</th>\n",
       "      <th>Alfabank Alfacard</th>\n",
       "      <td>0.755681</td>\n",
       "      <td>0.830874</td>\n",
       "    </tr>\n",
       "    <tr>\n",
       "      <th>Alfabank Next</th>\n",
       "      <td>0.607854</td>\n",
       "      <td>0.840455</td>\n",
       "    </tr>\n",
       "    <tr>\n",
       "      <th>Sberbank Large Bonuses Card</th>\n",
       "      <td>0.718717</td>\n",
       "      <td>0.973658</td>\n",
       "    </tr>\n",
       "    <tr>\n",
       "      <th>...</th>\n",
       "      <th>...</th>\n",
       "      <td>...</td>\n",
       "      <td>...</td>\n",
       "    </tr>\n",
       "    <tr>\n",
       "      <th rowspan=\"5\" valign=\"top\">Tinkoff Drive</th>\n",
       "      <th>Bank SPb Pensionary</th>\n",
       "      <td>0.187806</td>\n",
       "      <td>1.000000</td>\n",
       "    </tr>\n",
       "    <tr>\n",
       "      <th>Bank SPb Travel</th>\n",
       "      <td>0.687772</td>\n",
       "      <td>0.934551</td>\n",
       "    </tr>\n",
       "    <tr>\n",
       "      <th>Raiffeisen Cashback Card</th>\n",
       "      <td>0.703215</td>\n",
       "      <td>0.905923</td>\n",
       "    </tr>\n",
       "    <tr>\n",
       "      <th>Raiffeisen Gold</th>\n",
       "      <td>0.042188</td>\n",
       "      <td>1.000000</td>\n",
       "    </tr>\n",
       "    <tr>\n",
       "      <th>Sberbank Large Bonuses Card</th>\n",
       "      <td>0.554385</td>\n",
       "      <td>0.983642</td>\n",
       "    </tr>\n",
       "  </tbody>\n",
       "</table>\n",
       "<p>91 rows × 2 columns</p>\n",
       "</div>"
      ],
      "text/plain": [
       "                                                      0         1\n",
       "c1                c2                                             \n",
       "Alfabank Alfacard Alfabank Next                0.452041  0.687210\n",
       "                  Sberbank Large Bonuses Card  0.653039  0.804620\n",
       "Alfabank Cashback Alfabank Alfacard            0.755681  0.830874\n",
       "                  Alfabank Next                0.607854  0.840455\n",
       "                  Sberbank Large Bonuses Card  0.718717  0.973658\n",
       "...                                                 ...       ...\n",
       "Tinkoff Drive     Bank SPb Pensionary          0.187806  1.000000\n",
       "                  Bank SPb Travel              0.687772  0.934551\n",
       "                  Raiffeisen Cashback Card     0.703215  0.905923\n",
       "                  Raiffeisen Gold              0.042188  1.000000\n",
       "                  Sberbank Large Bonuses Card  0.554385  0.983642\n",
       "\n",
       "[91 rows x 2 columns]"
      ]
     },
     "execution_count": 17,
     "metadata": {},
     "output_type": "execute_result"
    }
   ],
   "source": [
    "features = np.array([\n",
    "    profit_single[profit_dual.index.get_level_values(0)].values / profit_dual.values,\n",
    "    profit_single[profit_dual.index.get_level_values(1)].values / profit_dual.values\n",
    "]).T\n",
    "\n",
    "features.sort(axis=1)\n",
    "\n",
    "features = pd.DataFrame(features, index=profit_dual.index)\n",
    "\n",
    "features"
   ]
  },
  {
   "cell_type": "code",
   "execution_count": 30,
   "metadata": {},
   "outputs": [
    {
     "data": {
      "image/png": "[encoded data removed]",
      "text/plain": [
       "<Figure size 576x237.6 with 2 Axes>"
      ]
     },
     "metadata": {},
     "output_type": "display_data"
    }
   ],
   "source": [
    "plt.figure(figsize=(8, 3.3))\n",
    "\n",
    "plt.scatter(*features.values.T, c=profit_dual.values, s=20, cmap='viridis', zorder=3)\n",
    "plt.colorbar(label='total cashback')\n",
    "\n",
    "plt.plot([0, 0.5], [1, 0.5], color='k', ls='dashed', alpha=0.3, lw=0.8, zorder=2)\n",
    "plt.plot([0.5, 1], [0.5, 1], color='k', ls='dashed', alpha=0.3, lw=0.8, zorder=2)\n",
    "plt.plot([0, 1], [1, 1], color='k', ls='dashed', alpha=0.3, lw=0.8, zorder=2)\n",
    "# plt.xlim(-0.05, 1.05)\n",
    "# plt.ylim(0.45, 1.05)\n",
    "\n",
    "plt.tick_params(labelbottom=False, labeltop=True)\n",
    "plt.gca().spines['bottom'].set_visible(False)\n",
    "plt.gca().spines['right'].set_visible(False)\n",
    "\n",
    "plt.xlabel('2nd card relevance')\n",
    "plt.gca().xaxis.set_label_position('top')\n",
    "\n",
    "plt.ylabel('1st card relevance')\n",
    "\n",
    "plt.savefig('../data/figures/card_relevance.pdf', transparent=True, bbox_inches='tight')"
   ]
  },
  {
   "cell_type": "code",
   "execution_count": null,
   "metadata": {},
   "outputs": [],
   "source": []
  },
  {
   "cell_type": "code",
   "execution_count": null,
   "metadata": {},
   "outputs": [],
   "source": []
  },
  {
   "cell_type": "code",
   "execution_count": 103,
   "metadata": {},
   "outputs": [
    {
     "data": {
      "text/plain": [
       "array([0.6872103 , 0.65303898, 0.75568149, 0.84045466, 0.71871711,\n",
       "       0.50545047, 0.85816332, 1.        , 0.9981236 , 1.        ,\n",
       "       0.83634866, 1.        , 0.88122445, 0.93430225, 0.31384553,\n",
       "       0.34499943, 0.34695643, 0.17210774, 0.26998854, 0.25436379,\n",
       "       0.8282802 , 0.33333333, 0.254673  , 0.88043165, 1.        ,\n",
       "       0.98833226, 0.90595821, 0.89626834, 0.99134793, 0.96680837,\n",
       "       0.79668233, 0.90608079, 0.99134793, 0.7705346 , 0.13041769,\n",
       "       0.13810357, 0.16546082, 0.11194854, 0.10546987, 0.13821394,\n",
       "       0.10584846, 0.93745089, 0.81221815, 0.67205231, 0.63836027,\n",
       "       0.89460095, 0.78463285, 0.66019539, 0.43460397, 0.98158079,\n",
       "       0.69520243, 0.71683528, 1.        , 0.94670563, 0.99577061,\n",
       "       0.6144332 , 0.02929639, 0.03221148, 0.04263851, 0.01603065,\n",
       "       0.08786073, 0.02514757, 0.02369224, 0.18343024, 0.0310477 ,\n",
       "       0.02377728, 0.62230287, 0.62209114, 0.54255128, 0.3413474 ,\n",
       "       0.99534112, 0.53532588, 0.50436841, 1.00000001, 0.66080281,\n",
       "       0.67668886, 0.98554128, 0.50655253, 0.89877373, 0.65028534,\n",
       "       0.66127153, 0.56889441, 0.37030267, 0.99581075, 0.57260514,\n",
       "       0.53520432, 1.00000001, 0.68777189, 0.70321512, 1.        ,\n",
       "       0.55438456])"
      ]
     },
     "execution_count": 103,
     "metadata": {},
     "output_type": "execute_result"
    }
   ],
   "source": []
  },
  {
   "cell_type": "code",
   "execution_count": null,
   "metadata": {},
   "outputs": [],
   "source": []
  },
  {
   "cell_type": "code",
   "execution_count": null,
   "metadata": {},
   "outputs": [],
   "source": []
  },
  {
   "cell_type": "code",
   "execution_count": null,
   "metadata": {},
   "outputs": [],
   "source": []
  },
  {
   "cell_type": "code",
   "execution_count": 100,
   "metadata": {},
   "outputs": [
    {
     "data": {
      "text/plain": [
       "Index(['Alfabank Alfacard', 'Alfabank Alfacard', 'Alfabank Cashback',\n",
       "       'Alfabank Cashback', 'Alfabank Cashback', 'Alfabank Next',\n",
       "       'Bank SPb Cashback', 'Bank SPb Cashback', 'Bank SPb Cashback',\n",
       "       'Bank SPb Cashback', 'Bank SPb Cashback', 'Bank SPb Cashback',\n",
       "       'Bank SPb Cashback', 'Bank SPb Cashback', 'Bank SPb Classic',\n",
       "       'Bank SPb Classic', 'Bank SPb Classic', 'Bank SPb Classic',\n",
       "       'Bank SPb Classic', 'Bank SPb Classic', 'Bank SPb Classic',\n",
       "       'Bank SPb Classic', 'Bank SPb Classic', 'Bank SPb EKP', 'Bank SPb EKP',\n",
       "       'Bank SPb EKP', 'Bank SPb EKP', 'Bank SPb EKP', 'Bank SPb MC World',\n",
       "       'Bank SPb MC World', 'Bank SPb MC World', 'Bank SPb MC World',\n",
       "       'Bank SPb MC World', 'Bank SPb MC World', 'Bank SPb Pensionary',\n",
       "       'Bank SPb Pensionary', 'Bank SPb Pensionary', 'Bank SPb Pensionary',\n",
       "       'Bank SPb Pensionary', 'Bank SPb Pensionary', 'Bank SPb Pensionary',\n",
       "       'Bank SPb Travel', 'Bank SPb Travel', 'Bank SPb Travel',\n",
       "       'Bank SPb Travel', 'Raiffeisen Cashback Card',\n",
       "       'Raiffeisen Cashback Card', 'Raiffeisen Cashback Card',\n",
       "       'Raiffeisen Cashback Card', 'Raiffeisen Cashback Card',\n",
       "       'Raiffeisen Cashback Card', 'Raiffeisen Cashback Card',\n",
       "       'Raiffeisen Cashback Card', 'Raiffeisen Cashback Card',\n",
       "       'Raiffeisen Cashback Card', 'Raiffeisen Cashback Card',\n",
       "       'Raiffeisen Gold', 'Raiffeisen Gold', 'Raiffeisen Gold',\n",
       "       'Raiffeisen Gold', 'Raiffeisen Gold', 'Raiffeisen Gold',\n",
       "       'Raiffeisen Gold', 'Raiffeisen Gold', 'Raiffeisen Gold',\n",
       "       'Raiffeisen Gold', 'Tinkoff Black', 'Tinkoff Black', 'Tinkoff Black',\n",
       "       'Tinkoff Black', 'Tinkoff Black', 'Tinkoff Black', 'Tinkoff Black',\n",
       "       'Tinkoff Black', 'Tinkoff Black', 'Tinkoff Black', 'Tinkoff Black',\n",
       "       'Tinkoff Black', 'Tinkoff Black', 'Tinkoff Drive', 'Tinkoff Drive',\n",
       "       'Tinkoff Drive', 'Tinkoff Drive', 'Tinkoff Drive', 'Tinkoff Drive',\n",
       "       'Tinkoff Drive', 'Tinkoff Drive', 'Tinkoff Drive', 'Tinkoff Drive',\n",
       "       'Tinkoff Drive', 'Tinkoff Drive'],\n",
       "      dtype='object', name='c1')"
      ]
     },
     "execution_count": 100,
     "metadata": {},
     "output_type": "execute_result"
    }
   ],
   "source": []
  },
  {
   "cell_type": "code",
   "execution_count": null,
   "metadata": {},
   "outputs": [],
   "source": []
  },
  {
   "cell_type": "code",
   "execution_count": null,
   "metadata": {},
   "outputs": [],
   "source": []
  }
 ],
 "metadata": {
  "kernelspec": {
   "display_name": "Python 3",
   "language": "python",
   "name": "python3"
  },
  "language_info": {
   "codemirror_mode": {
    "name": "ipython",
    "version": 3
   },
   "file_extension": ".py",
   "mimetype": "text/x-python",
   "name": "python",
   "nbconvert_exporter": "python",
   "pygments_lexer": "ipython3",
   "version": "3.9.5"
  }
 },
 "nbformat": 4,
 "nbformat_minor": 4
}
