{
 "cells": [
  {
   "cell_type": "code",
   "execution_count": 70,
   "metadata": {},
   "outputs": [],
   "source": [
    "import re\n",
    "from datetime import datetime\n",
    "from pathlib import Path\n",
    "from typing import Optional\n",
    "from operator import itemgetter\n",
    "from itertools import combinations\n",
    "\n",
    "import numpy as np\n",
    "import pandas as pd\n",
    "from matplotlib import pyplot as plt\n",
    "\n",
    "from myutils.json import load_json, save_json"
   ]
  },
  {
   "cell_type": "markdown",
   "metadata": {},
   "source": [
    "## All MCCs\n",
    "\n",
    "raiffeisen data + my data + bank mccs\n",
    "\n",
    "#### Raiffeisen"
   ]
  },
  {
   "cell_type": "code",
   "execution_count": 71,
   "metadata": {},
   "outputs": [
    {
     "data": {
      "text/html": [
       "<div>\n",
       "<style scoped>\n",
       "    .dataframe tbody tr th:only-of-type {\n",
       "        vertical-align: middle;\n",
       "    }\n",
       "\n",
       "    .dataframe tbody tr th {\n",
       "        vertical-align: top;\n",
       "    }\n",
       "\n",
       "    .dataframe thead th {\n",
       "        text-align: right;\n",
       "    }\n",
       "</style>\n",
       "<table border=\"1\" class=\"dataframe\">\n",
       "  <thead>\n",
       "    <tr style=\"text-align: right;\">\n",
       "      <th></th>\n",
       "      <th>amount</th>\n",
       "      <th>mcc</th>\n",
       "    </tr>\n",
       "  </thead>\n",
       "  <tbody>\n",
       "    <tr>\n",
       "      <th>0</th>\n",
       "      <td>2.884034</td>\n",
       "      <td>5261</td>\n",
       "    </tr>\n",
       "    <tr>\n",
       "      <th>1</th>\n",
       "      <td>2.787498</td>\n",
       "      <td>5261</td>\n",
       "    </tr>\n",
       "  </tbody>\n",
       "</table>\n",
       "</div>"
      ],
      "text/plain": [
       "     amount   mcc\n",
       "0  2.884034  5261\n",
       "1  2.787498  5261"
      ]
     },
     "execution_count": 71,
     "metadata": {},
     "output_type": "execute_result"
    }
   ],
   "source": [
    "raiffeisen_data = pd.read_csv('/Users/yuralytkin/Development/data/raiffeisen_data.csv',\n",
    "                              usecols=['amount', 'mcc'], dtype={'mcc': str})\n",
    "\n",
    "raiffeisen_data.head(2)"
   ]
  },
  {
   "cell_type": "code",
   "execution_count": 72,
   "metadata": {},
   "outputs": [
    {
     "data": {
      "text/plain": [
       "243"
      ]
     },
     "execution_count": 72,
     "metadata": {},
     "output_type": "execute_result"
    }
   ],
   "source": [
    "raiffeisen_mccs = set(raiffeisen_data.loc[raiffeisen_data['amount'] > 0, 'mcc'].unique().tolist())\n",
    "\n",
    "len(raiffeisen_mccs)"
   ]
  },
  {
   "cell_type": "markdown",
   "metadata": {},
   "source": [
    "#### My data"
   ]
  },
  {
   "cell_type": "code",
   "execution_count": 83,
   "metadata": {},
   "outputs": [
    {
     "data": {
      "text/html": [
       "<div>\n",
       "<style scoped>\n",
       "    .dataframe tbody tr th:only-of-type {\n",
       "        vertical-align: middle;\n",
       "    }\n",
       "\n",
       "    .dataframe tbody tr th {\n",
       "        vertical-align: top;\n",
       "    }\n",
       "\n",
       "    .dataframe thead th {\n",
       "        text-align: right;\n",
       "    }\n",
       "</style>\n",
       "<table border=\"1\" class=\"dataframe\">\n",
       "  <thead>\n",
       "    <tr style=\"text-align: right;\">\n",
       "      <th></th>\n",
       "      <th>Тип счёта</th>\n",
       "      <th>Номер счета</th>\n",
       "      <th>Валюта</th>\n",
       "      <th>Дата операции</th>\n",
       "      <th>Референс проводки</th>\n",
       "      <th>Описание операции</th>\n",
       "      <th>Приход</th>\n",
       "      <th>Расход</th>\n",
       "      <th>Unnamed: 8</th>\n",
       "      <th>MCC</th>\n",
       "      <th>is_cashback</th>\n",
       "    </tr>\n",
       "  </thead>\n",
       "  <tbody>\n",
       "    <tr>\n",
       "      <th>0</th>\n",
       "      <td>Текущий зарплатный счёт</td>\n",
       "      <td>40817810004810191309</td>\n",
       "      <td>RUR</td>\n",
       "      <td>2018-12-13</td>\n",
       "      <td>C071312180005185</td>\n",
       "      <td>должок</td>\n",
       "      <td>400.0</td>\n",
       "      <td>0.0</td>\n",
       "      <td>NaN</td>\n",
       "      <td>NaN</td>\n",
       "      <td>False</td>\n",
       "    </tr>\n",
       "    <tr>\n",
       "      <th>1</th>\n",
       "      <td>Текущий зарплатный счёт</td>\n",
       "      <td>40817810004810191309</td>\n",
       "      <td>RUR</td>\n",
       "      <td>2018-12-13</td>\n",
       "      <td>C071312180054312</td>\n",
       "      <td>Перевод денежных средств</td>\n",
       "      <td>0.0</td>\n",
       "      <td>200.0</td>\n",
       "      <td>NaN</td>\n",
       "      <td>NaN</td>\n",
       "      <td>False</td>\n",
       "    </tr>\n",
       "  </tbody>\n",
       "</table>\n",
       "</div>"
      ],
      "text/plain": [
       "                 Тип счёта           Номер счета Валюта Дата операции  \\\n",
       "0  Текущий зарплатный счёт  40817810004810191309    RUR    2018-12-13   \n",
       "1  Текущий зарплатный счёт  40817810004810191309    RUR    2018-12-13   \n",
       "\n",
       "  Референс проводки         Описание операции  Приход  Расход  Unnamed: 8  \\\n",
       "0  C071312180005185                    должок   400.0     0.0         NaN   \n",
       "1  C071312180054312  Перевод денежных средств     0.0   200.0         NaN   \n",
       "\n",
       "   MCC  is_cashback  \n",
       "0  NaN        False  \n",
       "1  NaN        False  "
      ]
     },
     "execution_count": 83,
     "metadata": {},
     "output_type": "execute_result"
    }
   ],
   "source": [
    "money_movement = pd.read_csv('/Users/yuralytkin/Downloads/movementList-2.csv', sep=';')\n",
    "\n",
    "money_movement['Дата операции'] = money_movement['Дата операции'].apply(lambda x: datetime.strptime(x, '%d.%m.%y'))\n",
    "money_movement = money_movement.sort_values(by='Дата операции').reset_index(drop=True)\n",
    "\n",
    "for key in ['Приход', 'Расход']:\n",
    "    money_movement[key] = money_movement[key].apply(lambda x: float('.'.join(x.split(','))))\n",
    "    \n",
    "mcc_re = re.compile('MCC(\\d{4,4})')\n",
    "\n",
    "def find_mcc(description: str) -> Optional[str]:\n",
    "    match = mcc_re.search(description)\n",
    "    \n",
    "    if match is None:\n",
    "        return np.nan\n",
    "    else:\n",
    "        return match.group(1)\n",
    "    \n",
    "\n",
    "money_movement['MCC'] = money_movement['Описание операции'].apply(find_mcc)\n",
    "\n",
    "\n",
    "def is_cashback(description: str) -> bool:\n",
    "    description = description.lower()\n",
    "    \n",
    "    # one of the following contains a cyrillic `c`\n",
    "    return ('сashback' in description) or ('cashback' in description)\n",
    "\n",
    "\n",
    "money_movement['is_cashback'] = money_movement['Описание операции'].apply(is_cashback)\n",
    "\n",
    "money_movement.head(2)"
   ]
  },
  {
   "cell_type": "code",
   "execution_count": 84,
   "metadata": {},
   "outputs": [
    {
     "name": "stdout",
     "output_type": "stream",
     "text": [
      "<class 'pandas.core.frame.DataFrame'>\n",
      "RangeIndex: 2664 entries, 0 to 2663\n",
      "Data columns (total 11 columns):\n",
      " #   Column             Non-Null Count  Dtype         \n",
      "---  ------             --------------  -----         \n",
      " 0   Тип счёта          2664 non-null   object        \n",
      " 1   Номер счета        2664 non-null   object        \n",
      " 2   Валюта             2664 non-null   object        \n",
      " 3   Дата операции      2664 non-null   datetime64[ns]\n",
      " 4   Референс проводки  2664 non-null   object        \n",
      " 5   Описание операции  2664 non-null   object        \n",
      " 6   Приход             2664 non-null   float64       \n",
      " 7   Расход             2664 non-null   float64       \n",
      " 8   Unnamed: 8         0 non-null      float64       \n",
      " 9   MCC                2373 non-null   object        \n",
      " 10  is_cashback        2664 non-null   bool          \n",
      "dtypes: bool(1), datetime64[ns](1), float64(3), object(6)\n",
      "memory usage: 210.9+ KB\n"
     ]
    }
   ],
   "source": [
    "money_movement.info()"
   ]
  },
  {
   "cell_type": "code",
   "execution_count": 85,
   "metadata": {},
   "outputs": [
    {
     "name": "stdout",
     "output_type": "stream",
     "text": [
      "<class 'pandas.core.frame.DataFrame'>\n",
      "RangeIndex: 2325 entries, 0 to 2324\n",
      "Data columns (total 11 columns):\n",
      " #   Column             Non-Null Count  Dtype         \n",
      "---  ------             --------------  -----         \n",
      " 0   Тип счёта          2325 non-null   object        \n",
      " 1   Номер счета        2325 non-null   object        \n",
      " 2   Валюта             2325 non-null   object        \n",
      " 3   Дата операции      2325 non-null   datetime64[ns]\n",
      " 4   Референс проводки  2325 non-null   object        \n",
      " 5   Описание операции  2325 non-null   object        \n",
      " 6   Приход             2325 non-null   float64       \n",
      " 7   Расход             2325 non-null   float64       \n",
      " 8   Unnamed: 8         0 non-null      float64       \n",
      " 9   MCC                2311 non-null   object        \n",
      " 10  is_cashback        2325 non-null   bool          \n",
      "dtypes: bool(1), datetime64[ns](1), float64(3), object(6)\n",
      "memory usage: 184.0+ KB\n"
     ]
    }
   ],
   "source": [
    "money_movement = money_movement[(~money_movement['MCC'].isna() & (money_movement['Расход'] > 0))\\\n",
    "                                | money_movement['is_cashback']].reset_index(drop=True)\n",
    "\n",
    "money_movement.info()"
   ]
  },
  {
   "cell_type": "code",
   "execution_count": 86,
   "metadata": {},
   "outputs": [
    {
     "data": {
      "text/plain": [
       "95"
      ]
     },
     "execution_count": 86,
     "metadata": {},
     "output_type": "execute_result"
    }
   ],
   "source": [
    "my_data_mccs = set(money_movement.loc[money_movement['Расход'] > 0, 'MCC'].unique().tolist())\n",
    "\n",
    "len(my_data_mccs)"
   ]
  },
  {
   "cell_type": "code",
   "execution_count": 87,
   "metadata": {},
   "outputs": [],
   "source": [
    "money_movement[['Дата операции', 'Приход', 'Расход', 'MCC', 'is_cashback']]\\\n",
    "    .sort_values(by='Дата операции')\\\n",
    "    .to_csv('../data/money_movement.csv', index=False)"
   ]
  },
  {
   "cell_type": "code",
   "execution_count": null,
   "metadata": {},
   "outputs": [],
   "source": []
  },
  {
   "cell_type": "markdown",
   "metadata": {},
   "source": [
    "#### Banks"
   ]
  },
  {
   "cell_type": "code",
   "execution_count": 23,
   "metadata": {},
   "outputs": [],
   "source": [
    "banks = load_json('../data/db/banks.json')"
   ]
  },
  {
   "cell_type": "code",
   "execution_count": 24,
   "metadata": {},
   "outputs": [
    {
     "data": {
      "text/plain": [
       "412"
      ]
     },
     "execution_count": 24,
     "metadata": {},
     "output_type": "execute_result"
    }
   ],
   "source": [
    "banks_mccs = set([\n",
    "    mcc\n",
    "    for bank in banks.values()\n",
    "    for profit_type in bank['categories']\n",
    "    for mccs in bank['categories'][profit_type].values()\n",
    "    for mcc in mccs\n",
    "] + [\n",
    "    mcc\n",
    "    for bank in banks.values()\n",
    "    for mcc in bank['skipped_mccs']\n",
    "])\n",
    "\n",
    "\n",
    "len(banks_mccs)"
   ]
  },
  {
   "cell_type": "code",
   "execution_count": 25,
   "metadata": {},
   "outputs": [
    {
     "data": {
      "text/plain": [
       "572"
      ]
     },
     "execution_count": 25,
     "metadata": {},
     "output_type": "execute_result"
    }
   ],
   "source": [
    "all_mccs = set.union(raiffeisen_mccs, my_data_mccs, banks_mccs)\n",
    "\n",
    "len(all_mccs)"
   ]
  },
  {
   "cell_type": "code",
   "execution_count": 26,
   "metadata": {},
   "outputs": [],
   "source": [
    "save_json(sorted(all_mccs), '../data/db/all_mccs.json')"
   ]
  },
  {
   "cell_type": "markdown",
   "metadata": {},
   "source": [
    "## MCC Categories"
   ]
  },
  {
   "cell_type": "code",
   "execution_count": 38,
   "metadata": {},
   "outputs": [],
   "source": [
    "mcc_categories = {\n",
    "    'restaurants': ['5811', '5812', '5813'],\n",
    "    'fastfood': ['5814'],\n",
    "    'fuel': ['5541', '5542', '5983'],\n",
    "    'taxi': ['4121'],\n",
    "    'groceries': ['5411', '5422', '5441', '5451', '5499'],\n",
    "    'pharmacies': ['5912'],\n",
    "    'cinema': ['7832'],\n",
    "    'airlines': ['3000', '3001', '3004', '3005', '3006', '3007',\n",
    "                 '3008', '3009', '3010', '3011', '3012', '3013',\n",
    "                 '3015', '3016', '3017', '3018', '3020', '3021',\n",
    "                 '3022', '3025', '3026', '3028', '3029', '3030',\n",
    "                 '3032', '3033', '3034', '3035', '3037', '3038',\n",
    "                 '3039', '3040', '3041', '3042', '3043', '3044',\n",
    "                 '3047', '3048', '3049', '3050', '3051', '3052',\n",
    "                 '3056', '3057', '3058', '3061', '3063', '3064',\n",
    "                 '3066', '3068', '3069', '3072', '3075', '3076',\n",
    "                 '3077', '3078', '3079', '3082', '3088', '3089',\n",
    "                 '3098', '3099', '3100', '3102', '3103', '3127',\n",
    "                 '3129', '3132', '3136', '3144', '3161', '3174',\n",
    "                 '3180', '3181', '3182', '3183', '3184', '3191',\n",
    "                 '3196', '3206', '3211', '3217', '3219', '3236',\n",
    "                 '3240', '3245', '3246', '3247', '3248', '3256',\n",
    "                 '3260', '3261', '3266', '3294', '3296', '3298',\n",
    "                 '3299', '4511']\n",
    "}"
   ]
  },
  {
   "cell_type": "code",
   "execution_count": 39,
   "metadata": {},
   "outputs": [],
   "source": [
    "skipped = {mcc for bank in banks.values() for mcc in bank['skipped_mccs']}\n",
    "\n",
    "mcc_categories = {\n",
    "    key: sorted(set(values) - skipped)\n",
    "    for key, values in mcc_categories.items()\n",
    "}"
   ]
  },
  {
   "cell_type": "code",
   "execution_count": 40,
   "metadata": {},
   "outputs": [
    {
     "data": {
      "text/plain": [
       "160"
      ]
     },
     "execution_count": 40,
     "metadata": {},
     "output_type": "execute_result"
    }
   ],
   "source": [
    "categorized_mccs = {\n",
    "    mcc\n",
    "    for bank in banks.values()\n",
    "    for profit_type in bank['categories']\n",
    "    for category_mccs in bank['categories'][profit_type].values()\n",
    "    for mcc in category_mccs\n",
    "}\n",
    "\n",
    "other_mccs = set(all_mccs) - skipped - categorized_mccs\n",
    "\n",
    "len(other_mccs)"
   ]
  },
  {
   "cell_type": "code",
   "execution_count": 41,
   "metadata": {},
   "outputs": [],
   "source": [
    "mcc_categories['other'] = sorted(other_mccs)"
   ]
  },
  {
   "cell_type": "code",
   "execution_count": 42,
   "metadata": {},
   "outputs": [],
   "source": [
    "for s1, s2 in combinations(mcc_categories.values(), 2):\n",
    "    assert len(set(s1).intersection(set(s2))) == 0"
   ]
  },
  {
   "cell_type": "code",
   "execution_count": 43,
   "metadata": {},
   "outputs": [],
   "source": [
    "save_json(mcc_categories, '../data/db/mcc_categories.json')"
   ]
  },
  {
   "cell_type": "code",
   "execution_count": null,
   "metadata": {},
   "outputs": [],
   "source": []
  }
 ],
 "metadata": {
  "kernelspec": {
   "display_name": "Python 3",
   "language": "python",
   "name": "python3"
  },
  "language_info": {
   "codemirror_mode": {
    "name": "ipython",
    "version": 3
   },
   "file_extension": ".py",
   "mimetype": "text/x-python",
   "name": "python",
   "nbconvert_exporter": "python",
   "pygments_lexer": "ipython3",
   "version": "3.8.10"
  }
 },
 "nbformat": 4,
 "nbformat_minor": 4
}
